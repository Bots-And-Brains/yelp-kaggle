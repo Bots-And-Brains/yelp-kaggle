{
 "cells": [
  {
   "cell_type": "code",
   "execution_count": 2,
   "metadata": {
    "collapsed": false
   },
   "outputs": [],
   "source": [
    "import pandas as pd\n",
    "\n",
    "base_dir = '../data/'\n",
    "\n",
    "with pd.get_store(base_dir + 'features_test.hd5') as store:\n",
    "    biz_images = store.select('features_test')"
   ]
  },
  {
   "cell_type": "code",
   "execution_count": 7,
   "metadata": {
    "collapsed": false
   },
   "outputs": [],
   "source": [
    "biz_ids = pd.read_csv(base_dir + \"test_photo_to_biz.csv\", delimiter=',',\n",
    "                      dtype={'business_id': 'string', 'photo_id':'int64'}, index_col=False)"
   ]
  },
  {
   "cell_type": "code",
   "execution_count": 11,
   "metadata": {
    "collapsed": false
   },
   "outputs": [
    {
     "name": "stdout",
     "output_type": "stream",
     "text": [
      "1190225\n"
     ]
    },
    {
     "data": {
      "text/html": [
       "<div>\n",
       "<table border=\"1\" class=\"dataframe\">\n",
       "  <thead>\n",
       "    <tr style=\"text-align: right;\">\n",
       "      <th></th>\n",
       "      <th>photo_id</th>\n",
       "      <th>business_id</th>\n",
       "    </tr>\n",
       "  </thead>\n",
       "  <tbody>\n",
       "    <tr>\n",
       "      <th>330359</th>\n",
       "      <td>26227</td>\n",
       "      <td>9ym2z</td>\n",
       "    </tr>\n",
       "    <tr>\n",
       "      <th>569388</th>\n",
       "      <td>26227</td>\n",
       "      <td>gy3f7</td>\n",
       "    </tr>\n",
       "    <tr>\n",
       "      <th>832972</th>\n",
       "      <td>26227</td>\n",
       "      <td>p4fm1</td>\n",
       "    </tr>\n",
       "    <tr>\n",
       "      <th>996324</th>\n",
       "      <td>26227</td>\n",
       "      <td>ubjjg</td>\n",
       "    </tr>\n",
       "    <tr>\n",
       "      <th>1131126</th>\n",
       "      <td>26227</td>\n",
       "      <td>yh8jz</td>\n",
       "    </tr>\n",
       "  </tbody>\n",
       "</table>\n",
       "</div>"
      ],
      "text/plain": [
       "         photo_id business_id\n",
       "330359      26227       9ym2z\n",
       "569388      26227       gy3f7\n",
       "832972      26227       p4fm1\n",
       "996324      26227       ubjjg\n",
       "1131126     26227       yh8jz"
      ]
     },
     "execution_count": 11,
     "metadata": {},
     "output_type": "execute_result"
    }
   ],
   "source": [
    "#There seem to be duplicates!\n",
    "print len(biz_ids)\n",
    "biz_ids[biz_ids.photo_id == 26227]"
   ]
  },
  {
   "cell_type": "code",
   "execution_count": 29,
   "metadata": {
    "collapsed": false
   },
   "outputs": [
    {
     "data": {
      "text/html": [
       "<div>\n",
       "<table border=\"1\" class=\"dataframe\">\n",
       "  <thead>\n",
       "    <tr style=\"text-align: right;\">\n",
       "      <th></th>\n",
       "      <th>photo_id</th>\n",
       "      <th>business_id</th>\n",
       "      <th>f_0</th>\n",
       "      <th>f_1</th>\n",
       "      <th>f_2</th>\n",
       "      <th>f_3</th>\n",
       "      <th>f_4</th>\n",
       "      <th>f_5</th>\n",
       "      <th>f_6</th>\n",
       "      <th>f_7</th>\n",
       "      <th>...</th>\n",
       "      <th>f_1014</th>\n",
       "      <th>f_1015</th>\n",
       "      <th>f_1016</th>\n",
       "      <th>f_1017</th>\n",
       "      <th>f_1018</th>\n",
       "      <th>f_1019</th>\n",
       "      <th>f_1020</th>\n",
       "      <th>f_1021</th>\n",
       "      <th>f_1022</th>\n",
       "      <th>f_1023</th>\n",
       "    </tr>\n",
       "  </thead>\n",
       "  <tbody>\n",
       "    <tr>\n",
       "      <th>330359</th>\n",
       "      <td>26227</td>\n",
       "      <td>9ym2z</td>\n",
       "      <td>0.030472</td>\n",
       "      <td>0.24585</td>\n",
       "      <td>0.015396</td>\n",
       "      <td>0</td>\n",
       "      <td>1.865234</td>\n",
       "      <td>0</td>\n",
       "      <td>2.685547</td>\n",
       "      <td>0</td>\n",
       "      <td>...</td>\n",
       "      <td>0</td>\n",
       "      <td>0</td>\n",
       "      <td>0</td>\n",
       "      <td>0</td>\n",
       "      <td>3.134766</td>\n",
       "      <td>0</td>\n",
       "      <td>0</td>\n",
       "      <td>0.720215</td>\n",
       "      <td>0</td>\n",
       "      <td>0</td>\n",
       "    </tr>\n",
       "    <tr>\n",
       "      <th>569388</th>\n",
       "      <td>26227</td>\n",
       "      <td>gy3f7</td>\n",
       "      <td>0.030472</td>\n",
       "      <td>0.24585</td>\n",
       "      <td>0.015396</td>\n",
       "      <td>0</td>\n",
       "      <td>1.865234</td>\n",
       "      <td>0</td>\n",
       "      <td>2.685547</td>\n",
       "      <td>0</td>\n",
       "      <td>...</td>\n",
       "      <td>0</td>\n",
       "      <td>0</td>\n",
       "      <td>0</td>\n",
       "      <td>0</td>\n",
       "      <td>3.134766</td>\n",
       "      <td>0</td>\n",
       "      <td>0</td>\n",
       "      <td>0.720215</td>\n",
       "      <td>0</td>\n",
       "      <td>0</td>\n",
       "    </tr>\n",
       "    <tr>\n",
       "      <th>832972</th>\n",
       "      <td>26227</td>\n",
       "      <td>p4fm1</td>\n",
       "      <td>0.030472</td>\n",
       "      <td>0.24585</td>\n",
       "      <td>0.015396</td>\n",
       "      <td>0</td>\n",
       "      <td>1.865234</td>\n",
       "      <td>0</td>\n",
       "      <td>2.685547</td>\n",
       "      <td>0</td>\n",
       "      <td>...</td>\n",
       "      <td>0</td>\n",
       "      <td>0</td>\n",
       "      <td>0</td>\n",
       "      <td>0</td>\n",
       "      <td>3.134766</td>\n",
       "      <td>0</td>\n",
       "      <td>0</td>\n",
       "      <td>0.720215</td>\n",
       "      <td>0</td>\n",
       "      <td>0</td>\n",
       "    </tr>\n",
       "    <tr>\n",
       "      <th>996324</th>\n",
       "      <td>26227</td>\n",
       "      <td>ubjjg</td>\n",
       "      <td>0.030472</td>\n",
       "      <td>0.24585</td>\n",
       "      <td>0.015396</td>\n",
       "      <td>0</td>\n",
       "      <td>1.865234</td>\n",
       "      <td>0</td>\n",
       "      <td>2.685547</td>\n",
       "      <td>0</td>\n",
       "      <td>...</td>\n",
       "      <td>0</td>\n",
       "      <td>0</td>\n",
       "      <td>0</td>\n",
       "      <td>0</td>\n",
       "      <td>3.134766</td>\n",
       "      <td>0</td>\n",
       "      <td>0</td>\n",
       "      <td>0.720215</td>\n",
       "      <td>0</td>\n",
       "      <td>0</td>\n",
       "    </tr>\n",
       "    <tr>\n",
       "      <th>1131126</th>\n",
       "      <td>26227</td>\n",
       "      <td>yh8jz</td>\n",
       "      <td>0.030472</td>\n",
       "      <td>0.24585</td>\n",
       "      <td>0.015396</td>\n",
       "      <td>0</td>\n",
       "      <td>1.865234</td>\n",
       "      <td>0</td>\n",
       "      <td>2.685547</td>\n",
       "      <td>0</td>\n",
       "      <td>...</td>\n",
       "      <td>0</td>\n",
       "      <td>0</td>\n",
       "      <td>0</td>\n",
       "      <td>0</td>\n",
       "      <td>3.134766</td>\n",
       "      <td>0</td>\n",
       "      <td>0</td>\n",
       "      <td>0.720215</td>\n",
       "      <td>0</td>\n",
       "      <td>0</td>\n",
       "    </tr>\n",
       "  </tbody>\n",
       "</table>\n",
       "<p>5 rows × 1026 columns</p>\n",
       "</div>"
      ],
      "text/plain": [
       "         photo_id business_id       f_0      f_1       f_2  f_3       f_4  \\\n",
       "330359      26227       9ym2z  0.030472  0.24585  0.015396    0  1.865234   \n",
       "569388      26227       gy3f7  0.030472  0.24585  0.015396    0  1.865234   \n",
       "832972      26227       p4fm1  0.030472  0.24585  0.015396    0  1.865234   \n",
       "996324      26227       ubjjg  0.030472  0.24585  0.015396    0  1.865234   \n",
       "1131126     26227       yh8jz  0.030472  0.24585  0.015396    0  1.865234   \n",
       "\n",
       "         f_5       f_6  f_7   ...    f_1014  f_1015  f_1016  f_1017    f_1018  \\\n",
       "330359     0  2.685547    0   ...         0       0       0       0  3.134766   \n",
       "569388     0  2.685547    0   ...         0       0       0       0  3.134766   \n",
       "832972     0  2.685547    0   ...         0       0       0       0  3.134766   \n",
       "996324     0  2.685547    0   ...         0       0       0       0  3.134766   \n",
       "1131126    0  2.685547    0   ...         0       0       0       0  3.134766   \n",
       "\n",
       "         f_1019  f_1020    f_1021  f_1022  f_1023  \n",
       "330359        0       0  0.720215       0       0  \n",
       "569388        0       0  0.720215       0       0  \n",
       "832972        0       0  0.720215       0       0  \n",
       "996324        0       0  0.720215       0       0  \n",
       "1131126       0       0  0.720215       0       0  \n",
       "\n",
       "[5 rows x 1026 columns]"
      ]
     },
     "execution_count": 29,
     "metadata": {},
     "output_type": "execute_result"
    }
   ],
   "source": [
    "biz_images[biz_images.photo_id == 26227]\n",
    "#Images all look the same though, so that's good."
   ]
  },
  {
   "cell_type": "code",
   "execution_count": 12,
   "metadata": {
    "collapsed": true
   },
   "outputs": [],
   "source": [
    "photo_count = biz_ids.groupby('photo_id').agg(['count'])"
   ]
  },
  {
   "cell_type": "code",
   "execution_count": 28,
   "metadata": {
    "collapsed": false
   },
   "outputs": [
    {
     "data": {
      "text/plain": [
       "<matplotlib.axes._subplots.AxesSubplot at 0x7fbc08325c10>"
      ]
     },
     "execution_count": 28,
     "metadata": {},
     "output_type": "execute_result"
    },
    {
     "data": {
      "image/png": "[encoded data removed]",
      "text/plain": [
       "<matplotlib.figure.Figure at 0x7fbc08275790>"
      ]
     },
     "metadata": {},
     "output_type": "display_data"
    }
   ],
   "source": [
    "# Indeed, each image is duplicated 5x\n",
    "#https://www.kaggle.com/c/yelp-restaurant-photo-classification/forums/t/18675/duplicate-photo-ids-in-test-data-test-photo-to-biz-csv/112917#post112917\n",
    "%matplotlib inline\n",
    "import matplotlib.image as mpimg\n",
    "import matplotlib.pyplot as plt\n",
    "photo_count[0:500].plot()\n",
    "# We could probably find out which businesses are real and which are not!"
   ]
  },
  {
   "cell_type": "code",
   "execution_count": 25,
   "metadata": {
    "collapsed": false
   },
   "outputs": [
    {
     "ename": "ValueError",
     "evalue": "cannot copy sequence with size 237152 to array axis with dimension 1",
     "output_type": "error",
     "traceback": [
      "\u001b[1;31m---------------------------------------------------------------------------\u001b[0m",
      "\u001b[1;31mValueError\u001b[0m                                Traceback (most recent call last)",
      "\u001b[1;32m<ipython-input-25-cd975c40813f>\u001b[0m in \u001b[0;36m<module>\u001b[1;34m()\u001b[0m\n\u001b[1;32m----> 1\u001b[1;33m \u001b[0mphoto_count\u001b[0m\u001b[1;33m[\u001b[0m\u001b[1;33m[\u001b[0m\u001b[0mphoto_count\u001b[0m\u001b[1;33m.\u001b[0m\u001b[0mbusiness_id\u001b[0m \u001b[1;33m<\u001b[0m \u001b[1;36m3\u001b[0m\u001b[1;33m]\u001b[0m\u001b[1;33m]\u001b[0m\u001b[1;33m\u001b[0m\u001b[0m\n\u001b[0m",
      "\u001b[1;32m/home/fcarey/anaconda2/lib/python2.7/site-packages/pandas/core/frame.pyc\u001b[0m in \u001b[0;36m__getitem__\u001b[1;34m(self, key)\u001b[0m\n\u001b[0;32m   1961\u001b[0m         \u001b[1;32mif\u001b[0m \u001b[0misinstance\u001b[0m\u001b[1;33m(\u001b[0m\u001b[0mkey\u001b[0m\u001b[1;33m,\u001b[0m \u001b[1;33m(\u001b[0m\u001b[0mSeries\u001b[0m\u001b[1;33m,\u001b[0m \u001b[0mnp\u001b[0m\u001b[1;33m.\u001b[0m\u001b[0mndarray\u001b[0m\u001b[1;33m,\u001b[0m \u001b[0mIndex\u001b[0m\u001b[1;33m,\u001b[0m \u001b[0mlist\u001b[0m\u001b[1;33m)\u001b[0m\u001b[1;33m)\u001b[0m\u001b[1;33m:\u001b[0m\u001b[1;33m\u001b[0m\u001b[0m\n\u001b[0;32m   1962\u001b[0m             \u001b[1;31m# either boolean or fancy integer index\u001b[0m\u001b[1;33m\u001b[0m\u001b[1;33m\u001b[0m\u001b[0m\n\u001b[1;32m-> 1963\u001b[1;33m             \u001b[1;32mreturn\u001b[0m \u001b[0mself\u001b[0m\u001b[1;33m.\u001b[0m\u001b[0m_getitem_array\u001b[0m\u001b[1;33m(\u001b[0m\u001b[0mkey\u001b[0m\u001b[1;33m)\u001b[0m\u001b[1;33m\u001b[0m\u001b[0m\n\u001b[0m\u001b[0;32m   1964\u001b[0m         \u001b[1;32melif\u001b[0m \u001b[0misinstance\u001b[0m\u001b[1;33m(\u001b[0m\u001b[0mkey\u001b[0m\u001b[1;33m,\u001b[0m \u001b[0mDataFrame\u001b[0m\u001b[1;33m)\u001b[0m\u001b[1;33m:\u001b[0m\u001b[1;33m\u001b[0m\u001b[0m\n\u001b[0;32m   1965\u001b[0m             \u001b[1;32mreturn\u001b[0m \u001b[0mself\u001b[0m\u001b[1;33m.\u001b[0m\u001b[0m_getitem_frame\u001b[0m\u001b[1;33m(\u001b[0m\u001b[0mkey\u001b[0m\u001b[1;33m)\u001b[0m\u001b[1;33m\u001b[0m\u001b[0m\n",
      "\u001b[1;32m/home/fcarey/anaconda2/lib/python2.7/site-packages/pandas/core/frame.pyc\u001b[0m in \u001b[0;36m_getitem_array\u001b[1;34m(self, key)\u001b[0m\n\u001b[0;32m   1988\u001b[0m     \u001b[1;32mdef\u001b[0m \u001b[0m_getitem_array\u001b[0m\u001b[1;33m(\u001b[0m\u001b[0mself\u001b[0m\u001b[1;33m,\u001b[0m \u001b[0mkey\u001b[0m\u001b[1;33m)\u001b[0m\u001b[1;33m:\u001b[0m\u001b[1;33m\u001b[0m\u001b[0m\n\u001b[0;32m   1989\u001b[0m         \u001b[1;31m# also raises Exception if object array with NA values\u001b[0m\u001b[1;33m\u001b[0m\u001b[1;33m\u001b[0m\u001b[0m\n\u001b[1;32m-> 1990\u001b[1;33m         \u001b[1;32mif\u001b[0m \u001b[0mcom\u001b[0m\u001b[1;33m.\u001b[0m\u001b[0mis_bool_indexer\u001b[0m\u001b[1;33m(\u001b[0m\u001b[0mkey\u001b[0m\u001b[1;33m)\u001b[0m\u001b[1;33m:\u001b[0m\u001b[1;33m\u001b[0m\u001b[0m\n\u001b[0m\u001b[0;32m   1991\u001b[0m             \u001b[1;31m# warning here just in case -- previously __setitem__ was\u001b[0m\u001b[1;33m\u001b[0m\u001b[1;33m\u001b[0m\u001b[0m\n\u001b[0;32m   1992\u001b[0m             \u001b[1;31m# reindexing but __getitem__ was not; it seems more reasonable to\u001b[0m\u001b[1;33m\u001b[0m\u001b[1;33m\u001b[0m\u001b[0m\n",
      "\u001b[1;32m/home/fcarey/anaconda2/lib/python2.7/site-packages/pandas/core/common.pyc\u001b[0m in \u001b[0;36mis_bool_indexer\u001b[1;34m(key)\u001b[0m\n\u001b[0;32m   1745\u001b[0m     \u001b[1;32melif\u001b[0m \u001b[0misinstance\u001b[0m\u001b[1;33m(\u001b[0m\u001b[0mkey\u001b[0m\u001b[1;33m,\u001b[0m \u001b[0mlist\u001b[0m\u001b[1;33m)\u001b[0m\u001b[1;33m:\u001b[0m\u001b[1;33m\u001b[0m\u001b[0m\n\u001b[0;32m   1746\u001b[0m         \u001b[1;32mtry\u001b[0m\u001b[1;33m:\u001b[0m\u001b[1;33m\u001b[0m\u001b[0m\n\u001b[1;32m-> 1747\u001b[1;33m             \u001b[0marr\u001b[0m \u001b[1;33m=\u001b[0m \u001b[0mnp\u001b[0m\u001b[1;33m.\u001b[0m\u001b[0masarray\u001b[0m\u001b[1;33m(\u001b[0m\u001b[0mkey\u001b[0m\u001b[1;33m)\u001b[0m\u001b[1;33m\u001b[0m\u001b[0m\n\u001b[0m\u001b[0;32m   1748\u001b[0m             \u001b[1;32mreturn\u001b[0m \u001b[0marr\u001b[0m\u001b[1;33m.\u001b[0m\u001b[0mdtype\u001b[0m \u001b[1;33m==\u001b[0m \u001b[0mnp\u001b[0m\u001b[1;33m.\u001b[0m\u001b[0mbool_\u001b[0m \u001b[1;32mand\u001b[0m \u001b[0mlen\u001b[0m\u001b[1;33m(\u001b[0m\u001b[0marr\u001b[0m\u001b[1;33m)\u001b[0m \u001b[1;33m==\u001b[0m \u001b[0mlen\u001b[0m\u001b[1;33m(\u001b[0m\u001b[0mkey\u001b[0m\u001b[1;33m)\u001b[0m\u001b[1;33m\u001b[0m\u001b[0m\n\u001b[0;32m   1749\u001b[0m         \u001b[1;32mexcept\u001b[0m \u001b[0mTypeError\u001b[0m\u001b[1;33m:\u001b[0m  \u001b[1;31m# pragma: no cover\u001b[0m\u001b[1;33m\u001b[0m\u001b[0m\n",
      "\u001b[1;32m/home/fcarey/anaconda2/lib/python2.7/site-packages/numpy/core/numeric.pyc\u001b[0m in \u001b[0;36masarray\u001b[1;34m(a, dtype, order)\u001b[0m\n\u001b[0;32m    472\u001b[0m \u001b[1;33m\u001b[0m\u001b[0m\n\u001b[0;32m    473\u001b[0m     \"\"\"\n\u001b[1;32m--> 474\u001b[1;33m     \u001b[1;32mreturn\u001b[0m \u001b[0marray\u001b[0m\u001b[1;33m(\u001b[0m\u001b[0ma\u001b[0m\u001b[1;33m,\u001b[0m \u001b[0mdtype\u001b[0m\u001b[1;33m,\u001b[0m \u001b[0mcopy\u001b[0m\u001b[1;33m=\u001b[0m\u001b[0mFalse\u001b[0m\u001b[1;33m,\u001b[0m \u001b[0morder\u001b[0m\u001b[1;33m=\u001b[0m\u001b[0morder\u001b[0m\u001b[1;33m)\u001b[0m\u001b[1;33m\u001b[0m\u001b[0m\n\u001b[0m\u001b[0;32m    475\u001b[0m \u001b[1;33m\u001b[0m\u001b[0m\n\u001b[0;32m    476\u001b[0m \u001b[1;32mdef\u001b[0m \u001b[0masanyarray\u001b[0m\u001b[1;33m(\u001b[0m\u001b[0ma\u001b[0m\u001b[1;33m,\u001b[0m \u001b[0mdtype\u001b[0m\u001b[1;33m=\u001b[0m\u001b[0mNone\u001b[0m\u001b[1;33m,\u001b[0m \u001b[0morder\u001b[0m\u001b[1;33m=\u001b[0m\u001b[0mNone\u001b[0m\u001b[1;33m)\u001b[0m\u001b[1;33m:\u001b[0m\u001b[1;33m\u001b[0m\u001b[0m\n",
      "\u001b[1;31mValueError\u001b[0m: cannot copy sequence with size 237152 to array axis with dimension 1"
     ]
    }
   ],
   "source": []
  },
  {
   "cell_type": "code",
   "execution_count": 37,
   "metadata": {
    "collapsed": false
   },
   "outputs": [
    {
     "data": {
      "text/plain": [
       "photo_id        468146\n",
       "business_id      003sg\n",
       "f_0            4.66797\n",
       "f_1            6.21484\n",
       "f_2            2.52344\n",
       "f_3            1.30566\n",
       "f_4             4.5625\n",
       "f_5            3.36523\n",
       "f_6            7.42188\n",
       "f_7            3.53906\n",
       "f_8            5.47656\n",
       "f_9            2.22656\n",
       "f_10            3.0332\n",
       "f_11           2.66797\n",
       "f_12           3.55664\n",
       "f_13           3.72852\n",
       "f_14           5.02734\n",
       "f_15           3.32031\n",
       "f_16             5.125\n",
       "f_17           4.82422\n",
       "f_18           4.60938\n",
       "f_19           2.11133\n",
       "f_20           4.59766\n",
       "f_21           4.00391\n",
       "f_22           5.35156\n",
       "f_23           4.60938\n",
       "f_24           4.53906\n",
       "f_25           2.72266\n",
       "f_26           6.01172\n",
       "f_27             9.875\n",
       "                ...   \n",
       "f_994          7.33984\n",
       "f_995            6.375\n",
       "f_996          2.41602\n",
       "f_997           3.8418\n",
       "f_998          9.14844\n",
       "f_999          7.60547\n",
       "f_1000         3.18945\n",
       "f_1001         3.08008\n",
       "f_1002         1.66406\n",
       "f_1003          3.0625\n",
       "f_1004         3.49805\n",
       "f_1005         8.59375\n",
       "f_1006         3.88867\n",
       "f_1007         6.00391\n",
       "f_1008         4.83594\n",
       "f_1009               5\n",
       "f_1010         4.58984\n",
       "f_1011         6.60547\n",
       "f_1012         7.33984\n",
       "f_1013         2.19336\n",
       "f_1014         4.10156\n",
       "f_1015         2.89453\n",
       "f_1016         7.31641\n",
       "f_1017         4.14062\n",
       "f_1018         9.25781\n",
       "f_1019         4.79297\n",
       "f_1020         6.42969\n",
       "f_1021         8.21875\n",
       "f_1022         13.3047\n",
       "f_1023         7.67578\n",
       "dtype: object"
      ]
     },
     "execution_count": 37,
     "metadata": {},
     "output_type": "execute_result"
    }
   ],
   "source": [
    "biz_images[biz_ids.business_id == '003sg'].max()"
   ]
  },
  {
   "cell_type": "code",
   "execution_count": null,
   "metadata": {
    "collapsed": true
   },
   "outputs": [],
   "source": []
  }
 ],
 "metadata": {
  "kernelspec": {
   "display_name": "Python 2",
   "language": "python",
   "name": "python2"
  },
  "language_info": {
   "codemirror_mode": {
    "name": "ipython",
    "version": 2
   },
   "file_extension": ".py",
   "mimetype": "text/x-python",
   "name": "python",
   "nbconvert_exporter": "python",
   "pygments_lexer": "ipython2",
   "version": "2.7.11"
  }
 },
 "nbformat": 4,
 "nbformat_minor": 0
}
