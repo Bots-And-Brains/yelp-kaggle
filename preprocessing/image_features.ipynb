{
 "cells": [
  {
   "cell_type": "markdown",
   "metadata": {},
   "source": [
    "This puts all the data from the feature generator, image_ids, and business_ids into a single pandas dataframe and then outputs a pickle file to store the result. Should be 465MB unzipped."
   ]
  },
  {
   "cell_type": "code",
   "execution_count": null,
   "metadata": {
    "collapsed": false,
    "scrolled": true
   },
   "outputs": [],
   "source": [
    "from pathlib2 import PosixPath\n",
    "import pandas as pd\n",
    "import os\n",
    "\n",
    "base_dir = '../data/'\n",
    "new_result=None\n",
    "limit = None\n",
    "# uncomment to limit to 10 rows for testing..\n",
    "#limit = 10\n",
    "\n",
    "cols = []\n",
    "feat_dtypes = {\n",
    "}\n",
    "images = []\n",
    "for i in range(1024):\n",
    "    col = 'f_' + str(i)\n",
    "    cols.append(col)\n",
    "    # We only need a float16 for the feature, not a float64 which is pandas default float. \n",
    "    # Makes a big difference when saving (1/4 size), but not in memory.\n",
    "    feat_dtypes[col] = pd.np.float16\n",
    "    \n",
    "# Note that you need to use the c engine apparently to get the dtypes to work.\n",
    "features = pd.read_csv(base_dir + 'features_test.txt', delimiter=' ', nrows=limit, \n",
    "                       names=cols, index_col=False, engine='c', dtype=feat_dtypes)\n",
    "biz_ids = pd.read_csv(base_dir + \"test_photo_to_biz.csv\", delimiter=',', nrows=limit,\n",
    "                      dtype={'business_id': 'string', 'photo_id':'int64'}, index_col=False)\n",
    "\n",
    "\n",
    "img_f = open(base_dir + 'images_test.txt', 'r')\n",
    "\n",
    "\n",
    "\n",
    "for i in range(len(features)):\n",
    "    img = PosixPath(img_f.readline())\n",
    "    i_period = img.name.find('.')\n",
    "    images.append(int(img.name[:i_period]))\n",
    "\n",
    "image_ids = pd.DataFrame(images, columns=['photo_id'])\n",
    "\n",
    "img_f.close()\n",
    "result = pd.concat([image_ids, features], axis=1, join='outer')\n",
    "features=None\n",
    "image_ids=None\n",
    "img_f=None\n",
    "images=None\n",
    "\n",
    "new_result = pd.merge(biz_ids, result, how='left', sort=False, on=['photo_id'])\n",
    "\n"
   ]
  },
  {
   "cell_type": "code",
   "execution_count": null,
   "metadata": {
    "collapsed": false
   },
   "outputs": [],
   "source": [
    "#os.remove(base_dir + \"features_test.hd5\")\n",
    "store = pd.HDFStore(base_dir + \"features_test.hd5\")\n",
    "\n",
    "bids = biz_ids['business_id'].unique()\n",
    "l, w = biz_ids.shape\n",
    "\n",
    "print \"Number of businesses\", len(bids)\n",
    "\n",
    "n=1\n",
    "for i in bids:\n",
    "    print n, i\n",
    "    n += 1\n",
    "    result = new_result.loc[new_result['business_id'] == i]\n",
    "    store.append('features_test', result, data_columns=['business_id', 'photo_id'], expectedrows=l)\n",
    "\n",
    "\n",
    "\n",
    "# Test that things work\n",
    "#print result.loc[result['photo_id'] == 113970].f_0\n",
    "#print biz_ids.loc[biz_ids['photo_id'] == 113970].photo_id\n"
   ]
  },
  {
   "cell_type": "code",
   "execution_count": null,
   "metadata": {
    "collapsed": false
   },
   "outputs": [],
   "source": [
    "%matplotlib inline\n",
    "import matplotlib.image as mpimg\n",
    "import matplotlib.pyplot as plt\n",
    "import pandas as pd\n",
    "\n",
    "# Load the cached pandas pickle file.\n",
    "base_dir = '../data/'\n",
    "features = pd.read_pickle(base_dir + 'features_test.pickle')\n"
   ]
  },
  {
   "cell_type": "code",
   "execution_count": null,
   "metadata": {
    "collapsed": false
   },
   "outputs": [],
   "source": [
    "biz_feat = features[['photo_id', 'business_id']].groupby(['business_id']).agg(['count'])"
   ]
  },
  {
   "cell_type": "code",
   "execution_count": null,
   "metadata": {
    "collapsed": false
   },
   "outputs": [],
   "source": [
    "# Numbers of images per business.\n",
    "biz_feat['photo_id'].plot()\n",
    "\n",
    "# Looks like there is a lot of variation on the number of images per business."
   ]
  },
  {
   "cell_type": "code",
   "execution_count": null,
   "metadata": {
    "collapsed": false
   },
   "outputs": [],
   "source": [
    "#Looking at the mean across business for feature 0.\n",
    "biz_feat = features.groupby(['business_id']).agg(['mean'])\n",
    "biz_feat.drop('photo_id', axis=1, inplace=True)\n",
    "biz_feat['f_0'].plot()\n"
   ]
  },
  {
   "cell_type": "code",
   "execution_count": null,
   "metadata": {
    "collapsed": false
   },
   "outputs": [],
   "source": [
    "#Looking at the mean across business for feature 0.\n",
    "biz_feat = features.groupby(['business_id']).agg(['max'])\n",
    "biz_feat.drop('photo_id', axis=1, inplace=True)\n",
    "biz_feat['f_0'].plot()"
   ]
  },
  {
   "cell_type": "code",
   "execution_count": null,
   "metadata": {
    "collapsed": false
   },
   "outputs": [],
   "source": [
    "# Show the variance of features for a single business.\n",
    "biz_feat = features.groupby(['business_id']).agg(['max'])\n",
    "biz_feat.drop('photo_id', axis=1, inplace=True)\n",
    "biz_feat.loc[4].plot()"
   ]
  },
  {
   "cell_type": "code",
   "execution_count": null,
   "metadata": {
    "collapsed": false,
    "scrolled": true
   },
   "outputs": [],
   "source": [
    "new_result"
   ]
  },
  {
   "cell_type": "code",
   "execution_count": null,
   "metadata": {
    "collapsed": true
   },
   "outputs": [],
   "source": []
  }
 ],
 "metadata": {
  "kernelspec": {
   "display_name": "Python 2",
   "language": "python",
   "name": "python2"
  },
  "language_info": {
   "codemirror_mode": {
    "name": "ipython",
    "version": 2
   },
   "file_extension": ".py",
   "mimetype": "text/x-python",
   "name": "python",
   "nbconvert_exporter": "python",
   "pygments_lexer": "ipython2",
   "version": "2.7.11"
  }
 },
 "nbformat": 4,
 "nbformat_minor": 0
}
