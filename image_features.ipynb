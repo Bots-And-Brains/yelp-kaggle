{
 "cells": [
  {
   "cell_type": "markdown",
   "metadata": {},
   "source": [
    "This puts all the data from the feature generator, image_ids, and business_ids into a single pandas dataframe and then outputs a pickle file to store the result. Should be 465MB unzipped."
   ]
  },
  {
   "cell_type": "code",
   "execution_count": 26,
   "metadata": {
    "collapsed": false
   },
   "outputs": [],
   "source": [
    "from pathlib2 import PosixPath\n",
    "import pandas as pd\n",
    "\n",
    "base_dir = '../data/'\n",
    "\n",
    "limit = 234842\n",
    "# uncomment to limit to 10 rows for testing..\n",
    "#limit = 10\n",
    "\n",
    "cols = []\n",
    "feat_dtypes = {\n",
    "}\n",
    "images = []\n",
    "for i in range(1024):\n",
    "    col = 'f_' + str(i)\n",
    "    cols.append(col)\n",
    "    # We only need a float16 for the feature, not a float64 which is pandas default float. \n",
    "    # Makes a big difference when saving (1/4 size), but not in memory.\n",
    "    feat_dtypes[col] = pd.np.float16\n",
    "    \n",
    "# Note that you need to use the c engine apparently to get the dypes to work.\n",
    "features = pd.read_csv(base_dir + 'features.txt', delimiter=' ', nrows=limit, \n",
    "                       names=cols, index_col=False, engine='c', dtype=feat_dtypes)\n",
    "biz_ids = pd.read_csv(base_dir + \"train_photo_to_biz_ids.csv\", delimiter=',', nrows=limit, index_col=False)\n",
    "img_f = open(base_dir + 'images.txt', 'r')\n",
    "\n",
    "for i in range(len(features)):\n",
    "    img = PosixPath(img_f.readline())\n",
    "    i_period = img.name.find('.')\n",
    "    images.append(int(img.name[:i_period]))\n",
    "\n",
    "image_ids = pd.DataFrame(images, columns=['photo_id'])\n",
    "\n",
    "img_f.close()\n",
    "result = pd.concat([image_ids, features], axis=1, join='outer')\n",
    "features=None\n",
    "image_ids=None\n",
    "img_f=None\n",
    "images=None\n",
    "new_result=None\n",
    "new_result = pd.merge(biz_ids, result, how='left', sort=False, on=['photo_id'])\n",
    "pd.to_pickle(new_result, base_dir + 'features.pickle')\n",
    "\n",
    "# Test that things work\n",
    "print result.loc[result['photo_id'] == 89943].f_0\n",
    "print biz_ids.loc[biz_ids['photo_id'] == 89943].photo_id\n"
   ]
  }
 ],
 "metadata": {
  "kernelspec": {
   "display_name": "Python 2",
   "language": "python",
   "name": "python2"
  },
  "language_info": {
   "codemirror_mode": {
    "name": "ipython",
    "version": 2
   },
   "file_extension": ".py",
   "mimetype": "text/x-python",
   "name": "python",
   "nbconvert_exporter": "python",
   "pygments_lexer": "ipython2",
   "version": "2.7.11"
  }
 },
 "nbformat": 4,
 "nbformat_minor": 0
}
