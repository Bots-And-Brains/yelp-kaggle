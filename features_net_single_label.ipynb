{
 "cells": [
  {
   "cell_type": "code",
   "execution_count": 1,
   "metadata": {
    "collapsed": false
   },
   "outputs": [],
   "source": [
    "# These are all the modules we'll be using later. Make sure you can import them\n",
    "# before proceeding further.\n",
    "import cPickle as pickle\n",
    "import numpy as np\n",
    "import tensorflow as tf\n",
    "#from sklearn import metrics\n",
    "import pickle\n",
    "from lib import accuracy\n",
    "from lib import labels"
   ]
  },
  {
   "cell_type": "code",
   "execution_count": 2,
   "metadata": {
    "collapsed": false
   },
   "outputs": [
    {
     "name": "stdout",
     "output_type": "stream",
     "text": [
      "Training set (1600, 1024) (1600, 9)\n",
      "Validation set (400, 1024) (400, 9)\n",
      "Test set (10000, 1024) 10000\n"
     ]
    }
   ],
   "source": [
    "data_dir = \"../data/\"\n",
    "pickle_file = 'tf_data_mean.pickle'\n",
    "\n",
    "with open(data_dir + pickle_file, 'rb') as f:\n",
    "    save = pickle.load(f)\n",
    "    train_dataset = np.matrix(save['train_data'], dtype='float32')\n",
    "    train_labels = np.matrix(save['train_labels'], dtype='float32')\n",
    "    valid_dataset = np.matrix(save['validate_data'], dtype='float32')\n",
    "    valid_labels = np.matrix(save['validate_labels'], dtype='float32')\n",
    "    test_dataset = np.matrix(save['test_data'], dtype='float32')\n",
    "    test_bids = list(save['test_business_ids'])\n",
    "    #test_bids = np.ravel(test_bids)\n",
    "    del save  # hint to help gc free up memory\n",
    "    print 'Training set', train_dataset.shape, train_labels.shape\n",
    "    print 'Validation set', valid_dataset.shape, valid_labels.shape\n",
    "    print 'Test set', test_dataset.shape, len(test_bids)\n",
    "\n",
    "# Convert labels to a dict of binarized labels [1. if true, 1. if false]\n",
    "# So can be used for softmax per label.\n",
    "train_labels = labels.binarize_softmax_labels(train_labels)\n",
    "valid_labels = labels.binarize_softmax_labels(valid_labels)"
   ]
  },
  {
   "cell_type": "code",
   "execution_count": 3,
   "metadata": {
    "collapsed": false
   },
   "outputs": [],
   "source": [
    "# With gradient descent training, even this much data is prohibitive.\n",
    "# Subset the training data for faster turnaround.\n",
    "\n",
    "#set to -1 to use all data\n",
    "train_subset = 1600\n",
    "input_size = 1024\n",
    "labels_size = 2\n",
    "label_to_train = 0\n",
    "    \n",
    "graph = tf.Graph()\n",
    "with graph.as_default():\n",
    "\n",
    "    # Input data.\n",
    "    # Load the training, validation and test data into constants that are\n",
    "    # attached to the graph.\n",
    "    tf_train_dataset = tf.constant(train_dataset[:train_subset, :])\n",
    "    tf_train_labels = tf.constant(train_labels[label_to_train][:train_subset, :])\n",
    "    tf_valid_dataset = tf.constant(valid_dataset)\n",
    "    tf_valid_labels = tf.constant(valid_labels[label_to_train])\n",
    "    tf_test_dataset = tf.constant(test_dataset)\n",
    "    \n",
    "    # Variables.\n",
    "    # These are the parameters that we are going to be training. The weight\n",
    "    # matrix will be initialized using random valued following a (truncated)\n",
    "    # normal distribution. The biases get initialized to zero.\n",
    "    weights = tf.Variable(\n",
    "        tf.truncated_normal([input_size, labels_size]))\n",
    "    #biases = tf.Variable(tf.zeros([labels_size]))\n",
    "    biases = tf.Variable(tf.zeros([labels_size]))\n",
    "\n",
    "    # Training computation.\n",
    "    # We multiply the inputs with the weight matrix, and add biases. We compute\n",
    "    # the softmax and cross-entropy (it's one operation in TensorFlow, because\n",
    "    # it's very common, and it can be optimized). We take the average of this\n",
    "    # cross-entropy across all training examples: that's our loss.\n",
    "    logits = tf.matmul(tf_train_dataset, weights) + biases\n",
    "    \n",
    "    loss = tf.reduce_mean(\n",
    "        #This uses sigmoid cross entropy, which allows for multiple labels\n",
    "        tf.nn.softmax_cross_entropy_with_logits(logits, tf_train_labels))\n",
    "\n",
    "    # Optimizer.\n",
    "    # We are going to find the minimum of this loss using gradient descent.\n",
    "    optimizer = tf.train.AdamOptimizer(0.1).minimize(loss)\n",
    "\n",
    "    # Predictions for the training, validation, and test data.\n",
    "    # These are not part of training, but merely here so that we can report\n",
    "    # accuracy figures as we train.\n",
    "    train_prediction = tf.nn.softmax(logits)\n",
    "    valid_prediction = tf.nn.softmax(\n",
    "        tf.matmul(tf_valid_dataset, weights) + biases)\n",
    "    test_prediction = tf.nn.softmax(\n",
    "        tf.matmul(tf_test_dataset, weights) + biases)"
   ]
  },
  {
   "cell_type": "code",
   "execution_count": null,
   "metadata": {
    "collapsed": false,
    "scrolled": false
   },
   "outputs": [],
   "source": [
    "num_steps = 3000\n",
    "\n",
    "with tf.Session(graph=graph) as session:\n",
    "    # This is a one-time operation which ensures the parameters get initialized as\n",
    "    # we described in the graph: random weights for the matrix, zeros for the\n",
    "    # biases. \n",
    "    tf.initialize_all_variables().run()\n",
    "    print 'Initialized'\n",
    "    for step in xrange(num_steps):\n",
    "        # Run the computations. We tell .run() that we want to run the optimizer,\n",
    "        # and get the loss value and the training predictions returned as numpy\n",
    "        # arrays.\n",
    "        _, l, predictions = session.run([optimizer, loss, train_prediction])\n",
    "        if (step % 100 == 0):\n",
    "            #print predictions.shape\n",
    "            print \"\"\n",
    "            print \">---------- step:\", step\n",
    "            print 'Loss at step', step, ':', l\n",
    "            #print \"F1 Score:\", (valid_labels)\n",
    "            print \"Training accuracy: {0:.0f}%\".format(100 * accuracy.binarized_accuracy(\n",
    "               train_labels[label_to_train][:train_subset, :], predictions))\n",
    "            # Calling .eval() on valid_prediction is basically like calling run(), but\n",
    "            # just to get that one numpy array. Note that it recomputes all its graph\n",
    "            # dependencies.\n",
    "            print \"Validation accuracy: {0:.0f}%\".format(100 * accuracy.binarized_accuracy(\n",
    "                 valid_labels[label_to_train], valid_prediction.eval()))\n",
    "            \n",
    "            test_results = test_prediction.eval()\n",
    "            \n",
    "#>---------- step: 4900\n",
    "#Loss at step 4900 : 0.0220133\n",
    "#Training accuracy: 100%\n",
    "#Validation accuracy: 74%\n",
    "\n",
    "\n"
   ]
  },
  {
   "cell_type": "code",
   "execution_count": null,
   "metadata": {
    "collapsed": true
   },
   "outputs": [],
   "source": [
    "train_dataset = save['train_dataset']\n",
    "train_labels = save['train_labels']\n",
    "valid_dataset = save['valid_dataset']\n",
    "valid_labels = save['valid_labels']\n",
    "test_dataset = save['test_dataset']\n",
    "test_bids = save['test_bids']\n",
    "del save  # hint to help gc free up memory\n",
    "print 'Training set', train_dataset.shape, train_labels.shape\n",
    "print 'Validation set', valid_dataset.shape, valid_labels.shape\n",
    "print 'Test set', test_dataset.shape, test_labels.shape"
   ]
  },
  {
   "cell_type": "code",
   "execution_count": null,
   "metadata": {
    "collapsed": false
   },
   "outputs": [],
   "source": [
    "#print test_bids\n",
    "\n",
    "test_results = np.array(np.round(test_results), dtype=bool)\n",
    "output = \"business_id,labels\\n\"\n",
    "\n",
    "for i in range(len(test_bids)):\n",
    "    print i\n",
    "    tags = np.argwhere(test_results[i])\n",
    "    tags_str = ' '.join('%d'%F for F in tags[:] )\n",
    "    output += test_bids[i]+ \",\" + tags_str + \"\\n\"\n",
    "    \n",
    "print output\n",
    "f = open('test_submission', 'w')\n",
    "f.write(output)\n",
    "f.close()"
   ]
  },
  {
   "cell_type": "code",
   "execution_count": null,
   "metadata": {
    "collapsed": false
   },
   "outputs": [],
   "source": [
    "output"
   ]
  },
  {
   "cell_type": "code",
   "execution_count": null,
   "metadata": {
    "collapsed": false
   },
   "outputs": [],
   "source": [
    "test_dataset[1]"
   ]
  },
  {
   "cell_type": "code",
   "execution_count": null,
   "metadata": {
    "collapsed": true
   },
   "outputs": [],
   "source": []
  }
 ],
 "metadata": {
  "kernelspec": {
   "display_name": "Python 2",
   "language": "python",
   "name": "python2"
  },
  "language_info": {
   "codemirror_mode": {
    "name": "ipython",
    "version": 2
   },
   "file_extension": ".py",
   "mimetype": "text/x-python",
   "name": "python",
   "nbconvert_exporter": "python",
   "pygments_lexer": "ipython2",
   "version": "2.7.11"
  }
 },
 "nbformat": 4,
 "nbformat_minor": 0
}
