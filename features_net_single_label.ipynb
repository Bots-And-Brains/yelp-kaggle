{
 "cells": [
  {
   "cell_type": "code",
   "execution_count": 2,
   "metadata": {
    "collapsed": false
   },
   "outputs": [],
   "source": [
    "# These are all the modules we'll be using later. Make sure you can import them\n",
    "# before proceeding further.\n",
    "import cPickle as pickle\n",
    "import numpy as np\n",
    "import tensorflow as tf\n",
    "#from sklearn import metrics\n",
    "import pickle\n",
    "from lib import f1_score"
   ]
  },
  {
   "cell_type": "code",
   "execution_count": 3,
   "metadata": {
    "collapsed": false
   },
   "outputs": [
    {
     "name": "stdout",
     "output_type": "stream",
     "text": [
      "Training set (1600, 1024) (1600, 9)\n",
      "Validation set (400, 1024) (400, 9)\n",
      "Test set (10000, 1024) 10000\n"
     ]
    }
   ],
   "source": [
    "data_dir = \"../data/\"\n",
    "pickle_file = 'tf_data_mean.pickle'\n",
    "\n",
    "with open(data_dir + pickle_file, 'rb') as f:\n",
    "    save = pickle.load(f)\n",
    "    train_dataset = np.matrix(save['train_data'], dtype='float32')\n",
    "    train_labels = np.matrix(save['train_labels'], dtype='float32')\n",
    "    valid_dataset = np.matrix(save['validate_data'], dtype='float32')\n",
    "    valid_labels = np.matrix(save['validate_labels'], dtype='float32')\n",
    "    test_dataset = np.matrix(save['test_data'], dtype='float32')\n",
    "    test_bids = list(save['test_business_ids'])\n",
    "    #test_bids = np.ravel(test_bids)\n",
    "    del save  # hint to help gc free up memory\n",
    "    print 'Training set', train_dataset.shape, train_labels.shape\n",
    "    print 'Validation set', valid_dataset.shape, valid_labels.shape\n",
    "    print 'Test set', test_dataset.shape, len(test_bids)"
   ]
  },
  {
   "cell_type": "code",
   "execution_count": 43,
   "metadata": {
    "collapsed": false
   },
   "outputs": [
    {
     "name": "stdout",
     "output_type": "stream",
     "text": [
      "0\n",
      "(1600, 2)\n",
      "1\n",
      "(1600, 2)\n",
      "2\n",
      "(1600, 2)\n",
      "3\n",
      "(1600, 2)\n",
      "4\n",
      "(1600, 2)\n",
      "5\n",
      "(1600, 2)\n",
      "6\n",
      "(1600, 2)\n",
      "7\n",
      "(1600, 2)\n",
      "8\n",
      "(1600, 2)\n",
      "[ 1.  0.]\n",
      "1.0\n"
     ]
    }
   ],
   "source": [
    "train_labels_individual = dict()\n",
    "train_shape = train_labels.shape\n",
    "for i in xrange(train_shape[1]):\n",
    "    print i\n",
    "    tmp = np.zeros((train_shape[0], 2), dtype=\"float32\")\n",
    "    print tmp.shape\n",
    "    for j in range(train_shape[0]):\n",
    "        if train_labels[j, i] < 1:\n",
    "            tmp[j] = [0., 1.]\n",
    "        else:\n",
    "            tmp[j] = [1., 0.]\n",
    "    train_labels_individual[i] = tmp\n",
    "    \n",
    "print train_labels_individual[1][1]\n",
    "print train_labels[1,1]"
   ]
  },
  {
   "cell_type": "code",
   "execution_count": null,
   "metadata": {
    "collapsed": true
   },
   "outputs": [],
   "source": [
    "# With gradient descent training, even this much data is prohibitive.\n",
    "# Subset the training data for faster turnaround.\n",
    "\n",
    "#set to -1 to use all data\n",
    "train_subset = 1600\n",
    "input_size = 1024\n",
    "labels_size = 9\n",
    "\n",
    "#def f1_score(y_true, y_pred):\n",
    "#    l, w = y_pred.shape\n",
    "#    y_true_1d = y_true.reshape(l * w, 1)\n",
    "#    y_pred_1d = y_pred.reshape(l * w, 1)\n",
    "#    y_int = np.intersect1d(y_true_1d, y_pred_1d)\n",
    "    \n",
    "    \n",
    "#    tp = np.\n",
    "#    fp =\n",
    "#    fn =\n",
    "#    p = tp / (tp + fp)\n",
    "#    r = tp / (tp + fn)\n",
    "#    f1 = 2 * ((p * r) / (p + r) )\n",
    "    \n",
    "    \n",
    "graph = tf.Graph()\n",
    "with graph.as_default():\n",
    "\n",
    "    # Input data.\n",
    "    # Load the training, validation and test data into constants that are\n",
    "    # attached to the graph.\n",
    "    tf_train_dataset = tf.constant(train_dataset[:train_subset, :])\n",
    "    tf_train_labels = tf.constant(train_labels[:train_subset, :])\n",
    "    tf_valid_dataset = tf.constant(valid_dataset)\n",
    "    tf_valid_labels = tf.constant(valid_labels)\n",
    "    tf_test_dataset = tf.constant(test_dataset)\n",
    "    \n",
    "    # Variables.\n",
    "    # These are the parameters that we are going to be training. The weight\n",
    "    # matrix will be initialized using random valued following a (truncated)\n",
    "    # normal distribution. The biases get initialized to zero.\n",
    "    weights = tf.Variable(\n",
    "        tf.truncated_normal([input_size, labels_size]))\n",
    "    #biases = tf.Variable(tf.zeros([labels_size]))\n",
    "    biases = tf.Variable(tf.zeros([labels_size]))\n",
    "\n",
    "    # Training computation.\n",
    "    # We multiply the inputs with the weight matrix, and add biases. We compute\n",
    "    # the softmax and cross-entropy (it's one operation in TensorFlow, because\n",
    "    # it's very common, and it can be optimized). We take the average of this\n",
    "    # cross-entropy across all training examples: that's our loss.\n",
    "    logits = tf.matmul(tf_train_dataset, weights) + biases\n",
    "    \n",
    "    loss = tf.reduce_mean(\n",
    "        #This uses sigmoid cross entropy, which allows for multiple labels\n",
    "        tf.nn.sigmoid_cross_entropy_with_logits(logits, tf_train_labels))\n",
    "\n",
    "    # Optimizer.\n",
    "    # We are going to find the minimum of this loss using gradient descent.\n",
    "    optimizer = tf.train.AdamOptimizer(0.01).minimize(loss)\n",
    "\n",
    "    # Predictions for the training, validation, and test data.\n",
    "    # These are not part of training, but merely here so that we can report\n",
    "    # accuracy figures as we train.\n",
    "    train_prediction = tf.nn.sigmoid(logits)\n",
    "    valid_prediction = tf.nn.sigmoid(\n",
    "        tf.matmul(tf_valid_dataset, weights) + biases)\n",
    "    test_prediction = tf.nn.sigmoid(\n",
    "        tf.matmul(tf_test_dataset, weights) + biases)"
   ]
  },
  {
   "cell_type": "code",
   "execution_count": null,
   "metadata": {
    "collapsed": false
   },
   "outputs": [],
   "source": [
    "num_steps = 50000\n",
    "\n",
    "with tf.Session(graph=graph) as session:\n",
    "    # This is a one-time operation which ensures the parameters get initialized as\n",
    "    # we described in the graph: random weights for the matrix, zeros for the\n",
    "    # biases. \n",
    "    tf.initialize_all_variables().run()\n",
    "    print 'Initialized'\n",
    "    for step in xrange(num_steps):\n",
    "        # Run the computations. We tell .run() that we want to run the optimizer,\n",
    "        # and get the loss value and the training predictions returned as numpy\n",
    "        # arrays.\n",
    "        _, l, predictions = session.run([optimizer, loss, train_prediction])\n",
    "        if (step % 1000 == 0):\n",
    "            #print predictions.shape\n",
    "            print 'Loss at step', step, ':', l\n",
    "            #print \"F1 Score:\", (valid_labels)\n",
    "            print 'Training accuracy: ',f1_score.mean_f1_score(\n",
    "               train_labels[:train_subset, :], predictions)\n",
    "            # Calling .eval() on valid_prediction is basically like calling run(), but\n",
    "            # just to get that one numpy array. Note that it recomputes all its graph\n",
    "            # dependencies.\n",
    "            print 'Validation accuracy:', f1_score.mean_f1_score(\n",
    "                 valid_labels, valid_prediction.eval())\n",
    "            \n",
    "            test_results = test_prediction.eval()\n",
    "            \n",
    "#Currently seems to overfit/ converge very quickly\n",
    "#Training 99.8%\n",
    "#Validation 87.5 %"
   ]
  },
  {
   "cell_type": "code",
   "execution_count": null,
   "metadata": {
    "collapsed": true
   },
   "outputs": [],
   "source": [
    "train_dataset = save['train_dataset']\n",
    "train_labels = save['train_labels']\n",
    "valid_dataset = save['valid_dataset']\n",
    "valid_labels = save['valid_labels']\n",
    "test_dataset = save['test_dataset']\n",
    "test_bids = save['test_bids']\n",
    "del save  # hint to help gc free up memory\n",
    "print 'Training set', train_dataset.shape, train_labels.shape\n",
    "print 'Validation set', valid_dataset.shape, valid_labels.shape\n",
    "print 'Test set', test_dataset.shape, test_labels.shape"
   ]
  },
  {
   "cell_type": "code",
   "execution_count": null,
   "metadata": {
    "collapsed": false
   },
   "outputs": [],
   "source": [
    "#print test_bids\n",
    "\n",
    "test_results = np.array(np.round(test_results), dtype=bool)\n",
    "output = \"business_id,labels\\n\"\n",
    "\n",
    "for i in range(len(test_bids)):\n",
    "    print i\n",
    "    tags = np.argwhere(test_results[i])\n",
    "    tags_str = ' '.join('%d'%F for F in tags[:] )\n",
    "    output += test_bids[i]+ \",\" + tags_str + \"\\n\"\n",
    "    \n",
    "print output\n",
    "f = open('test_submission', 'w')\n",
    "f.write(output)\n",
    "f.close()"
   ]
  },
  {
   "cell_type": "code",
   "execution_count": null,
   "metadata": {
    "collapsed": false
   },
   "outputs": [],
   "source": [
    "output"
   ]
  },
  {
   "cell_type": "code",
   "execution_count": null,
   "metadata": {
    "collapsed": false
   },
   "outputs": [],
   "source": [
    "test_dataset[1]"
   ]
  },
  {
   "cell_type": "code",
   "execution_count": null,
   "metadata": {
    "collapsed": true
   },
   "outputs": [],
   "source": []
  }
 ],
 "metadata": {
  "kernelspec": {
   "display_name": "Python 2",
   "language": "python",
   "name": "python2"
  },
  "language_info": {
   "codemirror_mode": {
    "name": "ipython",
    "version": 2
   },
   "file_extension": ".py",
   "mimetype": "text/x-python",
   "name": "python",
   "nbconvert_exporter": "python",
   "pygments_lexer": "ipython2",
   "version": "2.7.11"
  }
 },
 "nbformat": 4,
 "nbformat_minor": 0
}
